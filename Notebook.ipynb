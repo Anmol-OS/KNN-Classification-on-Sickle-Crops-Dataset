{
  "nbformat": 4,
  "nbformat_minor": 0,
  "metadata": {
    "colab": {
      "provenance": [],
      "collapsed_sections": [
        "qDiQUmOd1dfA",
        "TcITh9Gfg7eG",
        "A2MFS0-Ohb6M",
        "vRT-JCOvnuhQ",
        "j-HgQvKnqHqd",
        "Aa0W92-5susw"
      ],
      "authorship_tag": "ABX9TyPfL1czWNsyap6NLV2Xs55c",
      "include_colab_link": true
    },
    "kernelspec": {
      "name": "python3",
      "display_name": "Python 3"
    },
    "language_info": {
      "name": "python"
    }
  },
  "cells": [
    {
      "cell_type": "markdown",
      "metadata": {
        "id": "view-in-github",
        "colab_type": "text"
      },
      "source": [
        "<a href=\"https://colab.research.google.com/github/Anmol-OS/KNN-Classification-on-Sickle-Crops-Dataset/blob/main/Notebook.ipynb\" target=\"_parent\"><img src=\"https://colab.research.google.com/assets/colab-badge.svg\" alt=\"Open In Colab\"/></a>"
      ]
    },
    {
      "cell_type": "markdown",
      "source": [
        "# **SUMMER INTERNSHIP 2025**\n",
        "# MINI PROJECT (WEEK-2)\n",
        "# **CREATED BY:**\n",
        "# Anmol Bhatnagar             (992401040039)\n"
      ],
      "metadata": {
        "id": "szBV_hsl01TP"
      }
    },
    {
      "cell_type": "markdown",
      "source": [
        "# **INITIAL DATA EXAMINATION**"
      ],
      "metadata": {
        "id": "qDiQUmOd1dfA"
      }
    },
    {
      "cell_type": "code",
      "execution_count": null,
      "metadata": {
        "id": "F_y7qSKbdlJO"
      },
      "outputs": [],
      "source": [
        "import pandas as pd\n",
        "import numpy as np\n",
        "import seaborn as sns\n",
        "import matplotlib.pyplot as plt\n",
        "\n",
        "sns.set(style=\"whitegrid\")\n",
        "%matplotlib inline"
      ]
    },
    {
      "cell_type": "markdown",
      "source": [
        "Importing libraries:\n",
        "\n",
        "*   pandas is used to load and manipulate datasets\n",
        "*   numpy supports mathematical operations\n",
        "*   seaborn and matplotlib help in making graphs and visualizations\n",
        "\n",
        "\n",
        "\n",
        "\n"
      ],
      "metadata": {
        "id": "WisdlX2Le0P6"
      }
    },
    {
      "cell_type": "code",
      "source": [
        "df = pd.read_csv(\"/content/metadata.csv\")\n",
        "print(\"Shape of the dataset:\", df.shape)\n",
        "df.head(10)"
      ],
      "metadata": {
        "colab": {
          "base_uri": "https://localhost:8080/",
          "height": 539
        },
        "id": "E9YZKK9kfj7S",
        "outputId": "a840534d-0547-4fad-f49a-9761945c5940"
      },
      "execution_count": null,
      "outputs": [
        {
          "output_type": "stream",
          "name": "stdout",
          "text": [
            "Shape of the dataset: (217, 17)\n"
          ]
        },
        {
          "output_type": "execute_result",
          "data": {
            "text/plain": [
              "   UNIQUE_ID  PLOT_ID       RIVER_PART STANDARD_SEASON    YEAR  AREA  \\\n",
              "0       2315    417.0              NaN         oct-mar  2020.0  1.00   \n",
              "1       1774    219.0  Coastal Cauvery         dec-may  2019.0  0.09   \n",
              "2       1592    195.0    Lower Cauvery         apr-aug  2020.0  0.34   \n",
              "3       1253    161.0    Upper Cauvery         aug-jan  2019.0  0.19   \n",
              "4       1685    211.0  Coastal Cauvery         oct-mar  2018.0  4.11   \n",
              "5       1992    243.0  Coastal Cauvery         aug-jan  2019.0  0.06   \n",
              "6        532     57.0    Middle Vennar         jun-oct  2018.0  0.11   \n",
              "7       1104    148.0    Upper Cauvery         sep-feb  2019.0  0.06   \n",
              "8       2257    389.0              NaN         sep-feb  2019.0  1.00   \n",
              "9       1924    236.0  Coastal Cauvery         dec-may  2020.0  0.07   \n",
              "\n",
              "        CROP VARIETY  PADDY_BIN SOWING_DATE TRANSPLANTING_DATE  \\\n",
              "0      Paddy  Kalser        1.0   10/3/2020          11/3/2020   \n",
              "1      Paddy     NaN        1.0    1/1/2020                  0   \n",
              "2      Paddy     NaN        1.0    4/1/2020                  0   \n",
              "3  Sugarcane     NaN        2.0           0                  0   \n",
              "4    Coconut     NaN        2.0           0                  0   \n",
              "5      Paddy     NaN        1.0    9/1/2019                  0   \n",
              "6    Coconut     NaN        2.0           0                  0   \n",
              "7     Banana     NaN        2.0           0                  0   \n",
              "8      Paddy  Kalsar        1.0    9/9/2019         10/10/2019   \n",
              "9  Groundnut     NaN        2.0           0                  0   \n",
              "\n",
              "  HARVESTING_DATE  SOWING_DAY  TRANSPLANTING_DAY  HARVESTING_DAY   YIELD  \\\n",
              "0       2/13/2021         3.0               34.0           136.0  1320.0   \n",
              "1       5/31/2020        32.0                0.0           183.0     0.0   \n",
              "2       7/31/2020         1.0                0.0           122.0     0.0   \n",
              "3               0         0.0                0.0             0.0     0.0   \n",
              "4               0         0.0                0.0             0.0     0.0   \n",
              "5      12/31/2019        32.0                0.0           153.0     0.0   \n",
              "6               0         0.0                0.0             0.0     0.0   \n",
              "7               0         0.0                0.0             0.0     0.0   \n",
              "8       1/26/2020         9.0               40.0           148.0  1280.0   \n",
              "9               0         0.0                0.0             0.0     0.0   \n",
              "\n",
              "   SPLIT  \n",
              "0  train  \n",
              "1    val  \n",
              "2  train  \n",
              "3  train  \n",
              "4    val  \n",
              "5  train  \n",
              "6    val  \n",
              "7  train  \n",
              "8  train  \n",
              "9  train  "
            ],
            "text/html": [
              "\n",
              "  <div id=\"df-ccab6c7a-94ac-47a4-bf91-510a61a38ba3\" class=\"colab-df-container\">\n",
              "    <div>\n",
              "<style scoped>\n",
              "    .dataframe tbody tr th:only-of-type {\n",
              "        vertical-align: middle;\n",
              "    }\n",
              "\n",
              "    .dataframe tbody tr th {\n",
              "        vertical-align: top;\n",
              "    }\n",
              "\n",
              "    .dataframe thead th {\n",
              "        text-align: right;\n",
              "    }\n",
              "</style>\n",
              "<table border=\"1\" class=\"dataframe\">\n",
              "  <thead>\n",
              "    <tr style=\"text-align: right;\">\n",
              "      <th></th>\n",
              "      <th>UNIQUE_ID</th>\n",
              "      <th>PLOT_ID</th>\n",
              "      <th>RIVER_PART</th>\n",
              "      <th>STANDARD_SEASON</th>\n",
              "      <th>YEAR</th>\n",
              "      <th>AREA</th>\n",
              "      <th>CROP</th>\n",
              "      <th>VARIETY</th>\n",
              "      <th>PADDY_BIN</th>\n",
              "      <th>SOWING_DATE</th>\n",
              "      <th>TRANSPLANTING_DATE</th>\n",
              "      <th>HARVESTING_DATE</th>\n",
              "      <th>SOWING_DAY</th>\n",
              "      <th>TRANSPLANTING_DAY</th>\n",
              "      <th>HARVESTING_DAY</th>\n",
              "      <th>YIELD</th>\n",
              "      <th>SPLIT</th>\n",
              "    </tr>\n",
              "  </thead>\n",
              "  <tbody>\n",
              "    <tr>\n",
              "      <th>0</th>\n",
              "      <td>2315</td>\n",
              "      <td>417.0</td>\n",
              "      <td>NaN</td>\n",
              "      <td>oct-mar</td>\n",
              "      <td>2020.0</td>\n",
              "      <td>1.00</td>\n",
              "      <td>Paddy</td>\n",
              "      <td>Kalser</td>\n",
              "      <td>1.0</td>\n",
              "      <td>10/3/2020</td>\n",
              "      <td>11/3/2020</td>\n",
              "      <td>2/13/2021</td>\n",
              "      <td>3.0</td>\n",
              "      <td>34.0</td>\n",
              "      <td>136.0</td>\n",
              "      <td>1320.0</td>\n",
              "      <td>train</td>\n",
              "    </tr>\n",
              "    <tr>\n",
              "      <th>1</th>\n",
              "      <td>1774</td>\n",
              "      <td>219.0</td>\n",
              "      <td>Coastal Cauvery</td>\n",
              "      <td>dec-may</td>\n",
              "      <td>2019.0</td>\n",
              "      <td>0.09</td>\n",
              "      <td>Paddy</td>\n",
              "      <td>NaN</td>\n",
              "      <td>1.0</td>\n",
              "      <td>1/1/2020</td>\n",
              "      <td>0</td>\n",
              "      <td>5/31/2020</td>\n",
              "      <td>32.0</td>\n",
              "      <td>0.0</td>\n",
              "      <td>183.0</td>\n",
              "      <td>0.0</td>\n",
              "      <td>val</td>\n",
              "    </tr>\n",
              "    <tr>\n",
              "      <th>2</th>\n",
              "      <td>1592</td>\n",
              "      <td>195.0</td>\n",
              "      <td>Lower Cauvery</td>\n",
              "      <td>apr-aug</td>\n",
              "      <td>2020.0</td>\n",
              "      <td>0.34</td>\n",
              "      <td>Paddy</td>\n",
              "      <td>NaN</td>\n",
              "      <td>1.0</td>\n",
              "      <td>4/1/2020</td>\n",
              "      <td>0</td>\n",
              "      <td>7/31/2020</td>\n",
              "      <td>1.0</td>\n",
              "      <td>0.0</td>\n",
              "      <td>122.0</td>\n",
              "      <td>0.0</td>\n",
              "      <td>train</td>\n",
              "    </tr>\n",
              "    <tr>\n",
              "      <th>3</th>\n",
              "      <td>1253</td>\n",
              "      <td>161.0</td>\n",
              "      <td>Upper Cauvery</td>\n",
              "      <td>aug-jan</td>\n",
              "      <td>2019.0</td>\n",
              "      <td>0.19</td>\n",
              "      <td>Sugarcane</td>\n",
              "      <td>NaN</td>\n",
              "      <td>2.0</td>\n",
              "      <td>0</td>\n",
              "      <td>0</td>\n",
              "      <td>0</td>\n",
              "      <td>0.0</td>\n",
              "      <td>0.0</td>\n",
              "      <td>0.0</td>\n",
              "      <td>0.0</td>\n",
              "      <td>train</td>\n",
              "    </tr>\n",
              "    <tr>\n",
              "      <th>4</th>\n",
              "      <td>1685</td>\n",
              "      <td>211.0</td>\n",
              "      <td>Coastal Cauvery</td>\n",
              "      <td>oct-mar</td>\n",
              "      <td>2018.0</td>\n",
              "      <td>4.11</td>\n",
              "      <td>Coconut</td>\n",
              "      <td>NaN</td>\n",
              "      <td>2.0</td>\n",
              "      <td>0</td>\n",
              "      <td>0</td>\n",
              "      <td>0</td>\n",
              "      <td>0.0</td>\n",
              "      <td>0.0</td>\n",
              "      <td>0.0</td>\n",
              "      <td>0.0</td>\n",
              "      <td>val</td>\n",
              "    </tr>\n",
              "    <tr>\n",
              "      <th>5</th>\n",
              "      <td>1992</td>\n",
              "      <td>243.0</td>\n",
              "      <td>Coastal Cauvery</td>\n",
              "      <td>aug-jan</td>\n",
              "      <td>2019.0</td>\n",
              "      <td>0.06</td>\n",
              "      <td>Paddy</td>\n",
              "      <td>NaN</td>\n",
              "      <td>1.0</td>\n",
              "      <td>9/1/2019</td>\n",
              "      <td>0</td>\n",
              "      <td>12/31/2019</td>\n",
              "      <td>32.0</td>\n",
              "      <td>0.0</td>\n",
              "      <td>153.0</td>\n",
              "      <td>0.0</td>\n",
              "      <td>train</td>\n",
              "    </tr>\n",
              "    <tr>\n",
              "      <th>6</th>\n",
              "      <td>532</td>\n",
              "      <td>57.0</td>\n",
              "      <td>Middle Vennar</td>\n",
              "      <td>jun-oct</td>\n",
              "      <td>2018.0</td>\n",
              "      <td>0.11</td>\n",
              "      <td>Coconut</td>\n",
              "      <td>NaN</td>\n",
              "      <td>2.0</td>\n",
              "      <td>0</td>\n",
              "      <td>0</td>\n",
              "      <td>0</td>\n",
              "      <td>0.0</td>\n",
              "      <td>0.0</td>\n",
              "      <td>0.0</td>\n",
              "      <td>0.0</td>\n",
              "      <td>val</td>\n",
              "    </tr>\n",
              "    <tr>\n",
              "      <th>7</th>\n",
              "      <td>1104</td>\n",
              "      <td>148.0</td>\n",
              "      <td>Upper Cauvery</td>\n",
              "      <td>sep-feb</td>\n",
              "      <td>2019.0</td>\n",
              "      <td>0.06</td>\n",
              "      <td>Banana</td>\n",
              "      <td>NaN</td>\n",
              "      <td>2.0</td>\n",
              "      <td>0</td>\n",
              "      <td>0</td>\n",
              "      <td>0</td>\n",
              "      <td>0.0</td>\n",
              "      <td>0.0</td>\n",
              "      <td>0.0</td>\n",
              "      <td>0.0</td>\n",
              "      <td>train</td>\n",
              "    </tr>\n",
              "    <tr>\n",
              "      <th>8</th>\n",
              "      <td>2257</td>\n",
              "      <td>389.0</td>\n",
              "      <td>NaN</td>\n",
              "      <td>sep-feb</td>\n",
              "      <td>2019.0</td>\n",
              "      <td>1.00</td>\n",
              "      <td>Paddy</td>\n",
              "      <td>Kalsar</td>\n",
              "      <td>1.0</td>\n",
              "      <td>9/9/2019</td>\n",
              "      <td>10/10/2019</td>\n",
              "      <td>1/26/2020</td>\n",
              "      <td>9.0</td>\n",
              "      <td>40.0</td>\n",
              "      <td>148.0</td>\n",
              "      <td>1280.0</td>\n",
              "      <td>train</td>\n",
              "    </tr>\n",
              "    <tr>\n",
              "      <th>9</th>\n",
              "      <td>1924</td>\n",
              "      <td>236.0</td>\n",
              "      <td>Coastal Cauvery</td>\n",
              "      <td>dec-may</td>\n",
              "      <td>2020.0</td>\n",
              "      <td>0.07</td>\n",
              "      <td>Groundnut</td>\n",
              "      <td>NaN</td>\n",
              "      <td>2.0</td>\n",
              "      <td>0</td>\n",
              "      <td>0</td>\n",
              "      <td>0</td>\n",
              "      <td>0.0</td>\n",
              "      <td>0.0</td>\n",
              "      <td>0.0</td>\n",
              "      <td>0.0</td>\n",
              "      <td>train</td>\n",
              "    </tr>\n",
              "  </tbody>\n",
              "</table>\n",
              "</div>\n",
              "    <div class=\"colab-df-buttons\">\n",
              "\n",
              "  <div class=\"colab-df-container\">\n",
              "    <button class=\"colab-df-convert\" onclick=\"convertToInteractive('df-ccab6c7a-94ac-47a4-bf91-510a61a38ba3')\"\n",
              "            title=\"Convert this dataframe to an interactive table.\"\n",
              "            style=\"display:none;\">\n",
              "\n",
              "  <svg xmlns=\"http://www.w3.org/2000/svg\" height=\"24px\" viewBox=\"0 -960 960 960\">\n",
              "    <path d=\"M120-120v-720h720v720H120Zm60-500h600v-160H180v160Zm220 220h160v-160H400v160Zm0 220h160v-160H400v160ZM180-400h160v-160H180v160Zm440 0h160v-160H620v160ZM180-180h160v-160H180v160Zm440 0h160v-160H620v160Z\"/>\n",
              "  </svg>\n",
              "    </button>\n",
              "\n",
              "  <style>\n",
              "    .colab-df-container {\n",
              "      display:flex;\n",
              "      gap: 12px;\n",
              "    }\n",
              "\n",
              "    .colab-df-convert {\n",
              "      background-color: #E8F0FE;\n",
              "      border: none;\n",
              "      border-radius: 50%;\n",
              "      cursor: pointer;\n",
              "      display: none;\n",
              "      fill: #1967D2;\n",
              "      height: 32px;\n",
              "      padding: 0 0 0 0;\n",
              "      width: 32px;\n",
              "    }\n",
              "\n",
              "    .colab-df-convert:hover {\n",
              "      background-color: #E2EBFA;\n",
              "      box-shadow: 0px 1px 2px rgba(60, 64, 67, 0.3), 0px 1px 3px 1px rgba(60, 64, 67, 0.15);\n",
              "      fill: #174EA6;\n",
              "    }\n",
              "\n",
              "    .colab-df-buttons div {\n",
              "      margin-bottom: 4px;\n",
              "    }\n",
              "\n",
              "    [theme=dark] .colab-df-convert {\n",
              "      background-color: #3B4455;\n",
              "      fill: #D2E3FC;\n",
              "    }\n",
              "\n",
              "    [theme=dark] .colab-df-convert:hover {\n",
              "      background-color: #434B5C;\n",
              "      box-shadow: 0px 1px 3px 1px rgba(0, 0, 0, 0.15);\n",
              "      filter: drop-shadow(0px 1px 2px rgba(0, 0, 0, 0.3));\n",
              "      fill: #FFFFFF;\n",
              "    }\n",
              "  </style>\n",
              "\n",
              "    <script>\n",
              "      const buttonEl =\n",
              "        document.querySelector('#df-ccab6c7a-94ac-47a4-bf91-510a61a38ba3 button.colab-df-convert');\n",
              "      buttonEl.style.display =\n",
              "        google.colab.kernel.accessAllowed ? 'block' : 'none';\n",
              "\n",
              "      async function convertToInteractive(key) {\n",
              "        const element = document.querySelector('#df-ccab6c7a-94ac-47a4-bf91-510a61a38ba3');\n",
              "        const dataTable =\n",
              "          await google.colab.kernel.invokeFunction('convertToInteractive',\n",
              "                                                    [key], {});\n",
              "        if (!dataTable) return;\n",
              "\n",
              "        const docLinkHtml = 'Like what you see? Visit the ' +\n",
              "          '<a target=\"_blank\" href=https://colab.research.google.com/notebooks/data_table.ipynb>data table notebook</a>'\n",
              "          + ' to learn more about interactive tables.';\n",
              "        element.innerHTML = '';\n",
              "        dataTable['output_type'] = 'display_data';\n",
              "        await google.colab.output.renderOutput(dataTable, element);\n",
              "        const docLink = document.createElement('div');\n",
              "        docLink.innerHTML = docLinkHtml;\n",
              "        element.appendChild(docLink);\n",
              "      }\n",
              "    </script>\n",
              "  </div>\n",
              "\n",
              "\n",
              "    <div id=\"df-70146c8b-ffa3-4abe-a589-5aa7d887f757\">\n",
              "      <button class=\"colab-df-quickchart\" onclick=\"quickchart('df-70146c8b-ffa3-4abe-a589-5aa7d887f757')\"\n",
              "                title=\"Suggest charts\"\n",
              "                style=\"display:none;\">\n",
              "\n",
              "<svg xmlns=\"http://www.w3.org/2000/svg\" height=\"24px\"viewBox=\"0 0 24 24\"\n",
              "     width=\"24px\">\n",
              "    <g>\n",
              "        <path d=\"M19 3H5c-1.1 0-2 .9-2 2v14c0 1.1.9 2 2 2h14c1.1 0 2-.9 2-2V5c0-1.1-.9-2-2-2zM9 17H7v-7h2v7zm4 0h-2V7h2v10zm4 0h-2v-4h2v4z\"/>\n",
              "    </g>\n",
              "</svg>\n",
              "      </button>\n",
              "\n",
              "<style>\n",
              "  .colab-df-quickchart {\n",
              "      --bg-color: #E8F0FE;\n",
              "      --fill-color: #1967D2;\n",
              "      --hover-bg-color: #E2EBFA;\n",
              "      --hover-fill-color: #174EA6;\n",
              "      --disabled-fill-color: #AAA;\n",
              "      --disabled-bg-color: #DDD;\n",
              "  }\n",
              "\n",
              "  [theme=dark] .colab-df-quickchart {\n",
              "      --bg-color: #3B4455;\n",
              "      --fill-color: #D2E3FC;\n",
              "      --hover-bg-color: #434B5C;\n",
              "      --hover-fill-color: #FFFFFF;\n",
              "      --disabled-bg-color: #3B4455;\n",
              "      --disabled-fill-color: #666;\n",
              "  }\n",
              "\n",
              "  .colab-df-quickchart {\n",
              "    background-color: var(--bg-color);\n",
              "    border: none;\n",
              "    border-radius: 50%;\n",
              "    cursor: pointer;\n",
              "    display: none;\n",
              "    fill: var(--fill-color);\n",
              "    height: 32px;\n",
              "    padding: 0;\n",
              "    width: 32px;\n",
              "  }\n",
              "\n",
              "  .colab-df-quickchart:hover {\n",
              "    background-color: var(--hover-bg-color);\n",
              "    box-shadow: 0 1px 2px rgba(60, 64, 67, 0.3), 0 1px 3px 1px rgba(60, 64, 67, 0.15);\n",
              "    fill: var(--button-hover-fill-color);\n",
              "  }\n",
              "\n",
              "  .colab-df-quickchart-complete:disabled,\n",
              "  .colab-df-quickchart-complete:disabled:hover {\n",
              "    background-color: var(--disabled-bg-color);\n",
              "    fill: var(--disabled-fill-color);\n",
              "    box-shadow: none;\n",
              "  }\n",
              "\n",
              "  .colab-df-spinner {\n",
              "    border: 2px solid var(--fill-color);\n",
              "    border-color: transparent;\n",
              "    border-bottom-color: var(--fill-color);\n",
              "    animation:\n",
              "      spin 1s steps(1) infinite;\n",
              "  }\n",
              "\n",
              "  @keyframes spin {\n",
              "    0% {\n",
              "      border-color: transparent;\n",
              "      border-bottom-color: var(--fill-color);\n",
              "      border-left-color: var(--fill-color);\n",
              "    }\n",
              "    20% {\n",
              "      border-color: transparent;\n",
              "      border-left-color: var(--fill-color);\n",
              "      border-top-color: var(--fill-color);\n",
              "    }\n",
              "    30% {\n",
              "      border-color: transparent;\n",
              "      border-left-color: var(--fill-color);\n",
              "      border-top-color: var(--fill-color);\n",
              "      border-right-color: var(--fill-color);\n",
              "    }\n",
              "    40% {\n",
              "      border-color: transparent;\n",
              "      border-right-color: var(--fill-color);\n",
              "      border-top-color: var(--fill-color);\n",
              "    }\n",
              "    60% {\n",
              "      border-color: transparent;\n",
              "      border-right-color: var(--fill-color);\n",
              "    }\n",
              "    80% {\n",
              "      border-color: transparent;\n",
              "      border-right-color: var(--fill-color);\n",
              "      border-bottom-color: var(--fill-color);\n",
              "    }\n",
              "    90% {\n",
              "      border-color: transparent;\n",
              "      border-bottom-color: var(--fill-color);\n",
              "    }\n",
              "  }\n",
              "</style>\n",
              "\n",
              "      <script>\n",
              "        async function quickchart(key) {\n",
              "          const quickchartButtonEl =\n",
              "            document.querySelector('#' + key + ' button');\n",
              "          quickchartButtonEl.disabled = true;  // To prevent multiple clicks.\n",
              "          quickchartButtonEl.classList.add('colab-df-spinner');\n",
              "          try {\n",
              "            const charts = await google.colab.kernel.invokeFunction(\n",
              "                'suggestCharts', [key], {});\n",
              "          } catch (error) {\n",
              "            console.error('Error during call to suggestCharts:', error);\n",
              "          }\n",
              "          quickchartButtonEl.classList.remove('colab-df-spinner');\n",
              "          quickchartButtonEl.classList.add('colab-df-quickchart-complete');\n",
              "        }\n",
              "        (() => {\n",
              "          let quickchartButtonEl =\n",
              "            document.querySelector('#df-70146c8b-ffa3-4abe-a589-5aa7d887f757 button');\n",
              "          quickchartButtonEl.style.display =\n",
              "            google.colab.kernel.accessAllowed ? 'block' : 'none';\n",
              "        })();\n",
              "      </script>\n",
              "    </div>\n",
              "\n",
              "    </div>\n",
              "  </div>\n"
            ],
            "application/vnd.google.colaboratory.intrinsic+json": {
              "type": "dataframe",
              "variable_name": "df",
              "summary": "{\n  \"name\": \"df\",\n  \"rows\": 217,\n  \"fields\": [\n    {\n      \"column\": \"UNIQUE_ID\",\n      \"properties\": {\n        \"dtype\": \"number\",\n        \"std\": 708,\n        \"min\": 29,\n        \"max\": 2400,\n        \"num_unique_values\": 217,\n        \"samples\": [\n          275,\n          1628,\n          533\n        ],\n        \"semantic_type\": \"\",\n        \"description\": \"\"\n      }\n    },\n    {\n      \"column\": \"PLOT_ID\",\n      \"properties\": {\n        \"dtype\": \"number\",\n        \"std\": 116.40512469444313,\n        \"min\": 2.0,\n        \"max\": 444.0,\n        \"num_unique_values\": 147,\n        \"samples\": [\n          225.0,\n          52.0,\n          18.0\n        ],\n        \"semantic_type\": \"\",\n        \"description\": \"\"\n      }\n    },\n    {\n      \"column\": \"RIVER_PART\",\n      \"properties\": {\n        \"dtype\": \"category\",\n        \"num_unique_values\": 5,\n        \"samples\": [\n          \"Lower Cauvery\",\n          \"Coastal Vennar\",\n          \"Upper Cauvery\"\n        ],\n        \"semantic_type\": \"\",\n        \"description\": \"\"\n      }\n    },\n    {\n      \"column\": \"STANDARD_SEASON\",\n      \"properties\": {\n        \"dtype\": \"category\",\n        \"num_unique_values\": 7,\n        \"samples\": [\n          \"oct-mar\",\n          \"dec-may\",\n          \"sep-feb\"\n        ],\n        \"semantic_type\": \"\",\n        \"description\": \"\"\n      }\n    },\n    {\n      \"column\": \"YEAR\",\n      \"properties\": {\n        \"dtype\": \"number\",\n        \"std\": 0.7915807617713777,\n        \"min\": 2018.0,\n        \"max\": 2020.0,\n        \"num_unique_values\": 3,\n        \"samples\": [\n          2020.0,\n          2019.0,\n          2018.0\n        ],\n        \"semantic_type\": \"\",\n        \"description\": \"\"\n      }\n    },\n    {\n      \"column\": \"AREA\",\n      \"properties\": {\n        \"dtype\": \"number\",\n        \"std\": 0.4884469153806839,\n        \"min\": 0.02,\n        \"max\": 4.11,\n        \"num_unique_values\": 46,\n        \"samples\": [\n          0.3,\n          0.14,\n          1.46\n        ],\n        \"semantic_type\": \"\",\n        \"description\": \"\"\n      }\n    },\n    {\n      \"column\": \"CROP\",\n      \"properties\": {\n        \"dtype\": \"category\",\n        \"num_unique_values\": 14,\n        \"samples\": [\n          \"Palm tree\",\n          \"Sesame\",\n          \"Paddy\"\n        ],\n        \"semantic_type\": \"\",\n        \"description\": \"\"\n      }\n    },\n    {\n      \"column\": \"VARIETY\",\n      \"properties\": {\n        \"dtype\": \"category\",\n        \"num_unique_values\": 12,\n        \"samples\": [\n          \"ADT 37\",\n          \"IR 50\",\n          \"Kalser\"\n        ],\n        \"semantic_type\": \"\",\n        \"description\": \"\"\n      }\n    },\n    {\n      \"column\": \"PADDY_BIN\",\n      \"properties\": {\n        \"dtype\": \"number\",\n        \"std\": 0.4929958298060738,\n        \"min\": 1.0,\n        \"max\": 2.0,\n        \"num_unique_values\": 2,\n        \"samples\": [\n          2.0,\n          1.0\n        ],\n        \"semantic_type\": \"\",\n        \"description\": \"\"\n      }\n    },\n    {\n      \"column\": \"SOWING_DATE\",\n      \"properties\": {\n        \"dtype\": \"category\",\n        \"num_unique_values\": 38,\n        \"samples\": [\n          \"10/12/2019\",\n          \"9/10/2020\"\n        ],\n        \"semantic_type\": \"\",\n        \"description\": \"\"\n      }\n    },\n    {\n      \"column\": \"TRANSPLANTING_DATE\",\n      \"properties\": {\n        \"dtype\": \"category\",\n        \"num_unique_values\": 23,\n        \"samples\": [\n          \"10/7/2020\",\n          \"7/3/2020\"\n        ],\n        \"semantic_type\": \"\",\n        \"description\": \"\"\n      }\n    },\n    {\n      \"column\": \"HARVESTING_DATE\",\n      \"properties\": {\n        \"dtype\": \"category\",\n        \"num_unique_values\": 45,\n        \"samples\": [\n          \"2/22/2020\",\n          \"5/31/2019\"\n        ],\n        \"semantic_type\": \"\",\n        \"description\": \"\"\n      }\n    },\n    {\n      \"column\": \"SOWING_DAY\",\n      \"properties\": {\n        \"dtype\": \"number\",\n        \"std\": 9.987782688768377,\n        \"min\": -23.0,\n        \"max\": 34.0,\n        \"num_unique_values\": 15,\n        \"samples\": [\n          11.0,\n          2.0\n        ],\n        \"semantic_type\": \"\",\n        \"description\": \"\"\n      }\n    },\n    {\n      \"column\": \"TRANSPLANTING_DAY\",\n      \"properties\": {\n        \"dtype\": \"number\",\n        \"std\": 14.535432633510382,\n        \"min\": 0.0,\n        \"max\": 69.0,\n        \"num_unique_values\": 15,\n        \"samples\": [\n          8.0,\n          69.0\n        ],\n        \"semantic_type\": \"\",\n        \"description\": \"\"\n      }\n    },\n    {\n      \"column\": \"HARVESTING_DAY\",\n      \"properties\": {\n        \"dtype\": \"number\",\n        \"std\": 74.08429382052459,\n        \"min\": 0.0,\n        \"max\": 184.0,\n        \"num_unique_values\": 32,\n        \"samples\": [\n          178.0,\n          184.0\n        ],\n        \"semantic_type\": \"\",\n        \"description\": \"\"\n      }\n    },\n    {\n      \"column\": \"YIELD\",\n      \"properties\": {\n        \"dtype\": \"number\",\n        \"std\": 686.9635078825982,\n        \"min\": 0.0,\n        \"max\": 3600.0,\n        \"num_unique_values\": 21,\n        \"samples\": [\n          1320.0,\n          960.0\n        ],\n        \"semantic_type\": \"\",\n        \"description\": \"\"\n      }\n    },\n    {\n      \"column\": \"SPLIT\",\n      \"properties\": {\n        \"dtype\": \"category\",\n        \"num_unique_values\": 2,\n        \"samples\": [\n          \"val\",\n          \"train\"\n        ],\n        \"semantic_type\": \"\",\n        \"description\": \"\"\n      }\n    }\n  ]\n}"
            }
          },
          "metadata": {},
          "execution_count": 20
        }
      ]
    },
    {
      "cell_type": "code",
      "source": [
        "df.columns"
      ],
      "metadata": {
        "id": "GX0zR7wwx9_J",
        "colab": {
          "base_uri": "https://localhost:8080/"
        },
        "outputId": "5288664b-7796-4309-fdb4-ec4096663757"
      },
      "execution_count": null,
      "outputs": [
        {
          "output_type": "execute_result",
          "data": {
            "text/plain": [
              "Index(['UNIQUE_ID', 'PLOT_ID', 'RIVER_PART', 'STANDARD_SEASON', 'YEAR', 'AREA',\n",
              "       'CROP', 'VARIETY', 'PADDY_BIN', 'SOWING_DATE', 'TRANSPLANTING_DATE',\n",
              "       'HARVESTING_DATE', 'SOWING_DAY', 'TRANSPLANTING_DAY', 'HARVESTING_DAY',\n",
              "       'YIELD', 'SPLIT'],\n",
              "      dtype='object')"
            ]
          },
          "metadata": {},
          "execution_count": 21
        }
      ]
    },
    {
      "cell_type": "markdown",
      "source": [
        " Loading the CSV file containing the dataset using pandas.\n",
        "\n",
        "\n",
        "*   .shape tells how many rows (samples) and columns (features) are present.\n",
        "*   .head() shows the first few rows to understand what kind of data the dataset contains.\n",
        "\n"
      ],
      "metadata": {
        "id": "V5QayuDNfoDD"
      }
    },
    {
      "cell_type": "code",
      "source": [
        "df.info()"
      ],
      "metadata": {
        "id": "TCbeXv5sf-H1",
        "colab": {
          "base_uri": "https://localhost:8080/"
        },
        "outputId": "538e75bb-9741-4b90-f0ed-1a1c0b984422"
      },
      "execution_count": null,
      "outputs": [
        {
          "output_type": "stream",
          "name": "stdout",
          "text": [
            "<class 'pandas.core.frame.DataFrame'>\n",
            "RangeIndex: 217 entries, 0 to 216\n",
            "Data columns (total 17 columns):\n",
            " #   Column              Non-Null Count  Dtype  \n",
            "---  ------              --------------  -----  \n",
            " 0   UNIQUE_ID           217 non-null    int64  \n",
            " 1   PLOT_ID             217 non-null    float64\n",
            " 2   RIVER_PART          183 non-null    object \n",
            " 3   STANDARD_SEASON     217 non-null    object \n",
            " 4   YEAR                217 non-null    float64\n",
            " 5   AREA                217 non-null    float64\n",
            " 6   CROP                217 non-null    object \n",
            " 7   VARIETY             34 non-null     object \n",
            " 8   PADDY_BIN           217 non-null    float64\n",
            " 9   SOWING_DATE         217 non-null    object \n",
            " 10  TRANSPLANTING_DATE  217 non-null    object \n",
            " 11  HARVESTING_DATE     217 non-null    object \n",
            " 12  SOWING_DAY          217 non-null    float64\n",
            " 13  TRANSPLANTING_DAY   217 non-null    float64\n",
            " 14  HARVESTING_DAY      217 non-null    float64\n",
            " 15  YIELD               217 non-null    float64\n",
            " 16  SPLIT               217 non-null    object \n",
            "dtypes: float64(8), int64(1), object(8)\n",
            "memory usage: 28.9+ KB\n"
          ]
        }
      ]
    },
    {
      "cell_type": "markdown",
      "source": [
        "Before the application of KNN algorithm or any other machine learning algorithms, .info() helps in:\n",
        "\n",
        "\n",
        "*   What type of data each column has (e.g., numbers, text, dates)\n",
        "\n",
        "*   How many non-null (non-missing) values there are\n",
        "\n",
        "*   If any columns might need type conversion (like date fields stored as text)\n",
        "\n",
        "\n",
        "\n"
      ],
      "metadata": {
        "id": "Jk9IVFf0f_97"
      }
    },
    {
      "cell_type": "code",
      "source": [
        "df.describe()"
      ],
      "metadata": {
        "id": "GwqpGxDvgL2Z",
        "colab": {
          "base_uri": "https://localhost:8080/",
          "height": 300
        },
        "outputId": "a0b36719-9704-4b80-f44b-ffcf89347116"
      },
      "execution_count": null,
      "outputs": [
        {
          "output_type": "execute_result",
          "data": {
            "text/plain": [
              "         UNIQUE_ID     PLOT_ID         YEAR        AREA   PADDY_BIN  \\\n",
              "count   217.000000  217.000000   217.000000  217.000000  217.000000   \n",
              "mean   1227.285714  167.253456  2019.110599    0.374470    1.589862   \n",
              "std     708.129070  116.405125     0.791581    0.488447    0.492996   \n",
              "min      29.000000    2.000000  2018.000000    0.020000    1.000000   \n",
              "25%     573.000000   62.000000  2018.000000    0.130000    1.000000   \n",
              "50%    1295.000000  165.000000  2019.000000    0.210000    2.000000   \n",
              "75%    1856.000000  229.000000  2020.000000    0.430000    2.000000   \n",
              "max    2400.000000  444.000000  2020.000000    4.110000    2.000000   \n",
              "\n",
              "       SOWING_DAY  TRANSPLANTING_DAY  HARVESTING_DAY        YIELD  \n",
              "count  217.000000         217.000000      217.000000   217.000000  \n",
              "mean     4.382488           6.059908       60.635945   283.102903  \n",
              "std      9.987783          14.535433       74.084294   686.963508  \n",
              "min    -23.000000           0.000000        0.000000     0.000000  \n",
              "25%      0.000000           0.000000        0.000000     0.000000  \n",
              "50%      0.000000           0.000000        0.000000     0.000000  \n",
              "75%      1.000000           0.000000      142.000000     0.000000  \n",
              "max     34.000000          69.000000      184.000000  3600.000000  "
            ],
            "text/html": [
              "\n",
              "  <div id=\"df-dec0b2f4-e89a-4d3e-ba0d-3d4c73d94582\" class=\"colab-df-container\">\n",
              "    <div>\n",
              "<style scoped>\n",
              "    .dataframe tbody tr th:only-of-type {\n",
              "        vertical-align: middle;\n",
              "    }\n",
              "\n",
              "    .dataframe tbody tr th {\n",
              "        vertical-align: top;\n",
              "    }\n",
              "\n",
              "    .dataframe thead th {\n",
              "        text-align: right;\n",
              "    }\n",
              "</style>\n",
              "<table border=\"1\" class=\"dataframe\">\n",
              "  <thead>\n",
              "    <tr style=\"text-align: right;\">\n",
              "      <th></th>\n",
              "      <th>UNIQUE_ID</th>\n",
              "      <th>PLOT_ID</th>\n",
              "      <th>YEAR</th>\n",
              "      <th>AREA</th>\n",
              "      <th>PADDY_BIN</th>\n",
              "      <th>SOWING_DAY</th>\n",
              "      <th>TRANSPLANTING_DAY</th>\n",
              "      <th>HARVESTING_DAY</th>\n",
              "      <th>YIELD</th>\n",
              "    </tr>\n",
              "  </thead>\n",
              "  <tbody>\n",
              "    <tr>\n",
              "      <th>count</th>\n",
              "      <td>217.000000</td>\n",
              "      <td>217.000000</td>\n",
              "      <td>217.000000</td>\n",
              "      <td>217.000000</td>\n",
              "      <td>217.000000</td>\n",
              "      <td>217.000000</td>\n",
              "      <td>217.000000</td>\n",
              "      <td>217.000000</td>\n",
              "      <td>217.000000</td>\n",
              "    </tr>\n",
              "    <tr>\n",
              "      <th>mean</th>\n",
              "      <td>1227.285714</td>\n",
              "      <td>167.253456</td>\n",
              "      <td>2019.110599</td>\n",
              "      <td>0.374470</td>\n",
              "      <td>1.589862</td>\n",
              "      <td>4.382488</td>\n",
              "      <td>6.059908</td>\n",
              "      <td>60.635945</td>\n",
              "      <td>283.102903</td>\n",
              "    </tr>\n",
              "    <tr>\n",
              "      <th>std</th>\n",
              "      <td>708.129070</td>\n",
              "      <td>116.405125</td>\n",
              "      <td>0.791581</td>\n",
              "      <td>0.488447</td>\n",
              "      <td>0.492996</td>\n",
              "      <td>9.987783</td>\n",
              "      <td>14.535433</td>\n",
              "      <td>74.084294</td>\n",
              "      <td>686.963508</td>\n",
              "    </tr>\n",
              "    <tr>\n",
              "      <th>min</th>\n",
              "      <td>29.000000</td>\n",
              "      <td>2.000000</td>\n",
              "      <td>2018.000000</td>\n",
              "      <td>0.020000</td>\n",
              "      <td>1.000000</td>\n",
              "      <td>-23.000000</td>\n",
              "      <td>0.000000</td>\n",
              "      <td>0.000000</td>\n",
              "      <td>0.000000</td>\n",
              "    </tr>\n",
              "    <tr>\n",
              "      <th>25%</th>\n",
              "      <td>573.000000</td>\n",
              "      <td>62.000000</td>\n",
              "      <td>2018.000000</td>\n",
              "      <td>0.130000</td>\n",
              "      <td>1.000000</td>\n",
              "      <td>0.000000</td>\n",
              "      <td>0.000000</td>\n",
              "      <td>0.000000</td>\n",
              "      <td>0.000000</td>\n",
              "    </tr>\n",
              "    <tr>\n",
              "      <th>50%</th>\n",
              "      <td>1295.000000</td>\n",
              "      <td>165.000000</td>\n",
              "      <td>2019.000000</td>\n",
              "      <td>0.210000</td>\n",
              "      <td>2.000000</td>\n",
              "      <td>0.000000</td>\n",
              "      <td>0.000000</td>\n",
              "      <td>0.000000</td>\n",
              "      <td>0.000000</td>\n",
              "    </tr>\n",
              "    <tr>\n",
              "      <th>75%</th>\n",
              "      <td>1856.000000</td>\n",
              "      <td>229.000000</td>\n",
              "      <td>2020.000000</td>\n",
              "      <td>0.430000</td>\n",
              "      <td>2.000000</td>\n",
              "      <td>1.000000</td>\n",
              "      <td>0.000000</td>\n",
              "      <td>142.000000</td>\n",
              "      <td>0.000000</td>\n",
              "    </tr>\n",
              "    <tr>\n",
              "      <th>max</th>\n",
              "      <td>2400.000000</td>\n",
              "      <td>444.000000</td>\n",
              "      <td>2020.000000</td>\n",
              "      <td>4.110000</td>\n",
              "      <td>2.000000</td>\n",
              "      <td>34.000000</td>\n",
              "      <td>69.000000</td>\n",
              "      <td>184.000000</td>\n",
              "      <td>3600.000000</td>\n",
              "    </tr>\n",
              "  </tbody>\n",
              "</table>\n",
              "</div>\n",
              "    <div class=\"colab-df-buttons\">\n",
              "\n",
              "  <div class=\"colab-df-container\">\n",
              "    <button class=\"colab-df-convert\" onclick=\"convertToInteractive('df-dec0b2f4-e89a-4d3e-ba0d-3d4c73d94582')\"\n",
              "            title=\"Convert this dataframe to an interactive table.\"\n",
              "            style=\"display:none;\">\n",
              "\n",
              "  <svg xmlns=\"http://www.w3.org/2000/svg\" height=\"24px\" viewBox=\"0 -960 960 960\">\n",
              "    <path d=\"M120-120v-720h720v720H120Zm60-500h600v-160H180v160Zm220 220h160v-160H400v160Zm0 220h160v-160H400v160ZM180-400h160v-160H180v160Zm440 0h160v-160H620v160ZM180-180h160v-160H180v160Zm440 0h160v-160H620v160Z\"/>\n",
              "  </svg>\n",
              "    </button>\n",
              "\n",
              "  <style>\n",
              "    .colab-df-container {\n",
              "      display:flex;\n",
              "      gap: 12px;\n",
              "    }\n",
              "\n",
              "    .colab-df-convert {\n",
              "      background-color: #E8F0FE;\n",
              "      border: none;\n",
              "      border-radius: 50%;\n",
              "      cursor: pointer;\n",
              "      display: none;\n",
              "      fill: #1967D2;\n",
              "      height: 32px;\n",
              "      padding: 0 0 0 0;\n",
              "      width: 32px;\n",
              "    }\n",
              "\n",
              "    .colab-df-convert:hover {\n",
              "      background-color: #E2EBFA;\n",
              "      box-shadow: 0px 1px 2px rgba(60, 64, 67, 0.3), 0px 1px 3px 1px rgba(60, 64, 67, 0.15);\n",
              "      fill: #174EA6;\n",
              "    }\n",
              "\n",
              "    .colab-df-buttons div {\n",
              "      margin-bottom: 4px;\n",
              "    }\n",
              "\n",
              "    [theme=dark] .colab-df-convert {\n",
              "      background-color: #3B4455;\n",
              "      fill: #D2E3FC;\n",
              "    }\n",
              "\n",
              "    [theme=dark] .colab-df-convert:hover {\n",
              "      background-color: #434B5C;\n",
              "      box-shadow: 0px 1px 3px 1px rgba(0, 0, 0, 0.15);\n",
              "      filter: drop-shadow(0px 1px 2px rgba(0, 0, 0, 0.3));\n",
              "      fill: #FFFFFF;\n",
              "    }\n",
              "  </style>\n",
              "\n",
              "    <script>\n",
              "      const buttonEl =\n",
              "        document.querySelector('#df-dec0b2f4-e89a-4d3e-ba0d-3d4c73d94582 button.colab-df-convert');\n",
              "      buttonEl.style.display =\n",
              "        google.colab.kernel.accessAllowed ? 'block' : 'none';\n",
              "\n",
              "      async function convertToInteractive(key) {\n",
              "        const element = document.querySelector('#df-dec0b2f4-e89a-4d3e-ba0d-3d4c73d94582');\n",
              "        const dataTable =\n",
              "          await google.colab.kernel.invokeFunction('convertToInteractive',\n",
              "                                                    [key], {});\n",
              "        if (!dataTable) return;\n",
              "\n",
              "        const docLinkHtml = 'Like what you see? Visit the ' +\n",
              "          '<a target=\"_blank\" href=https://colab.research.google.com/notebooks/data_table.ipynb>data table notebook</a>'\n",
              "          + ' to learn more about interactive tables.';\n",
              "        element.innerHTML = '';\n",
              "        dataTable['output_type'] = 'display_data';\n",
              "        await google.colab.output.renderOutput(dataTable, element);\n",
              "        const docLink = document.createElement('div');\n",
              "        docLink.innerHTML = docLinkHtml;\n",
              "        element.appendChild(docLink);\n",
              "      }\n",
              "    </script>\n",
              "  </div>\n",
              "\n",
              "\n",
              "    <div id=\"df-899ac7dd-e3b8-4f22-bef8-d1ce9e2ee587\">\n",
              "      <button class=\"colab-df-quickchart\" onclick=\"quickchart('df-899ac7dd-e3b8-4f22-bef8-d1ce9e2ee587')\"\n",
              "                title=\"Suggest charts\"\n",
              "                style=\"display:none;\">\n",
              "\n",
              "<svg xmlns=\"http://www.w3.org/2000/svg\" height=\"24px\"viewBox=\"0 0 24 24\"\n",
              "     width=\"24px\">\n",
              "    <g>\n",
              "        <path d=\"M19 3H5c-1.1 0-2 .9-2 2v14c0 1.1.9 2 2 2h14c1.1 0 2-.9 2-2V5c0-1.1-.9-2-2-2zM9 17H7v-7h2v7zm4 0h-2V7h2v10zm4 0h-2v-4h2v4z\"/>\n",
              "    </g>\n",
              "</svg>\n",
              "      </button>\n",
              "\n",
              "<style>\n",
              "  .colab-df-quickchart {\n",
              "      --bg-color: #E8F0FE;\n",
              "      --fill-color: #1967D2;\n",
              "      --hover-bg-color: #E2EBFA;\n",
              "      --hover-fill-color: #174EA6;\n",
              "      --disabled-fill-color: #AAA;\n",
              "      --disabled-bg-color: #DDD;\n",
              "  }\n",
              "\n",
              "  [theme=dark] .colab-df-quickchart {\n",
              "      --bg-color: #3B4455;\n",
              "      --fill-color: #D2E3FC;\n",
              "      --hover-bg-color: #434B5C;\n",
              "      --hover-fill-color: #FFFFFF;\n",
              "      --disabled-bg-color: #3B4455;\n",
              "      --disabled-fill-color: #666;\n",
              "  }\n",
              "\n",
              "  .colab-df-quickchart {\n",
              "    background-color: var(--bg-color);\n",
              "    border: none;\n",
              "    border-radius: 50%;\n",
              "    cursor: pointer;\n",
              "    display: none;\n",
              "    fill: var(--fill-color);\n",
              "    height: 32px;\n",
              "    padding: 0;\n",
              "    width: 32px;\n",
              "  }\n",
              "\n",
              "  .colab-df-quickchart:hover {\n",
              "    background-color: var(--hover-bg-color);\n",
              "    box-shadow: 0 1px 2px rgba(60, 64, 67, 0.3), 0 1px 3px 1px rgba(60, 64, 67, 0.15);\n",
              "    fill: var(--button-hover-fill-color);\n",
              "  }\n",
              "\n",
              "  .colab-df-quickchart-complete:disabled,\n",
              "  .colab-df-quickchart-complete:disabled:hover {\n",
              "    background-color: var(--disabled-bg-color);\n",
              "    fill: var(--disabled-fill-color);\n",
              "    box-shadow: none;\n",
              "  }\n",
              "\n",
              "  .colab-df-spinner {\n",
              "    border: 2px solid var(--fill-color);\n",
              "    border-color: transparent;\n",
              "    border-bottom-color: var(--fill-color);\n",
              "    animation:\n",
              "      spin 1s steps(1) infinite;\n",
              "  }\n",
              "\n",
              "  @keyframes spin {\n",
              "    0% {\n",
              "      border-color: transparent;\n",
              "      border-bottom-color: var(--fill-color);\n",
              "      border-left-color: var(--fill-color);\n",
              "    }\n",
              "    20% {\n",
              "      border-color: transparent;\n",
              "      border-left-color: var(--fill-color);\n",
              "      border-top-color: var(--fill-color);\n",
              "    }\n",
              "    30% {\n",
              "      border-color: transparent;\n",
              "      border-left-color: var(--fill-color);\n",
              "      border-top-color: var(--fill-color);\n",
              "      border-right-color: var(--fill-color);\n",
              "    }\n",
              "    40% {\n",
              "      border-color: transparent;\n",
              "      border-right-color: var(--fill-color);\n",
              "      border-top-color: var(--fill-color);\n",
              "    }\n",
              "    60% {\n",
              "      border-color: transparent;\n",
              "      border-right-color: var(--fill-color);\n",
              "    }\n",
              "    80% {\n",
              "      border-color: transparent;\n",
              "      border-right-color: var(--fill-color);\n",
              "      border-bottom-color: var(--fill-color);\n",
              "    }\n",
              "    90% {\n",
              "      border-color: transparent;\n",
              "      border-bottom-color: var(--fill-color);\n",
              "    }\n",
              "  }\n",
              "</style>\n",
              "\n",
              "      <script>\n",
              "        async function quickchart(key) {\n",
              "          const quickchartButtonEl =\n",
              "            document.querySelector('#' + key + ' button');\n",
              "          quickchartButtonEl.disabled = true;  // To prevent multiple clicks.\n",
              "          quickchartButtonEl.classList.add('colab-df-spinner');\n",
              "          try {\n",
              "            const charts = await google.colab.kernel.invokeFunction(\n",
              "                'suggestCharts', [key], {});\n",
              "          } catch (error) {\n",
              "            console.error('Error during call to suggestCharts:', error);\n",
              "          }\n",
              "          quickchartButtonEl.classList.remove('colab-df-spinner');\n",
              "          quickchartButtonEl.classList.add('colab-df-quickchart-complete');\n",
              "        }\n",
              "        (() => {\n",
              "          let quickchartButtonEl =\n",
              "            document.querySelector('#df-899ac7dd-e3b8-4f22-bef8-d1ce9e2ee587 button');\n",
              "          quickchartButtonEl.style.display =\n",
              "            google.colab.kernel.accessAllowed ? 'block' : 'none';\n",
              "        })();\n",
              "      </script>\n",
              "    </div>\n",
              "\n",
              "    </div>\n",
              "  </div>\n"
            ],
            "application/vnd.google.colaboratory.intrinsic+json": {
              "type": "dataframe",
              "summary": "{\n  \"name\": \"df\",\n  \"rows\": 8,\n  \"fields\": [\n    {\n      \"column\": \"UNIQUE_ID\",\n      \"properties\": {\n        \"dtype\": \"number\",\n        \"std\": 814.4417599283354,\n        \"min\": 29.0,\n        \"max\": 2400.0,\n        \"num_unique_values\": 8,\n        \"samples\": [\n          1227.2857142857142,\n          1295.0,\n          217.0\n        ],\n        \"semantic_type\": \"\",\n        \"description\": \"\"\n      }\n    },\n    {\n      \"column\": \"PLOT_ID\",\n      \"properties\": {\n        \"dtype\": \"number\",\n        \"std\": 132.735765901406,\n        \"min\": 2.0,\n        \"max\": 444.0,\n        \"num_unique_values\": 8,\n        \"samples\": [\n          167.25345622119815,\n          165.0,\n          217.0\n        ],\n        \"semantic_type\": \"\",\n        \"description\": \"\"\n      }\n    },\n    {\n      \"column\": \"YEAR\",\n      \"properties\": {\n        \"dtype\": \"number\",\n        \"std\": 886.1013982825019,\n        \"min\": 0.7915807617713777,\n        \"max\": 2020.0,\n        \"num_unique_values\": 6,\n        \"samples\": [\n          217.0,\n          2019.110599078341,\n          2020.0\n        ],\n        \"semantic_type\": \"\",\n        \"description\": \"\"\n      }\n    },\n    {\n      \"column\": \"AREA\",\n      \"properties\": {\n        \"dtype\": \"number\",\n        \"std\": 76.44195048864303,\n        \"min\": 0.02,\n        \"max\": 217.0,\n        \"num_unique_values\": 8,\n        \"samples\": [\n          0.37447004608294926,\n          0.21,\n          217.0\n        ],\n        \"semantic_type\": \"\",\n        \"description\": \"\"\n      }\n    },\n    {\n      \"column\": \"PADDY_BIN\",\n      \"properties\": {\n        \"dtype\": \"number\",\n        \"std\": 76.21393074702313,\n        \"min\": 0.4929958298060738,\n        \"max\": 217.0,\n        \"num_unique_values\": 5,\n        \"samples\": [\n          1.5898617511520738,\n          2.0,\n          0.4929958298060738\n        ],\n        \"semantic_type\": \"\",\n        \"description\": \"\"\n      }\n    },\n    {\n      \"column\": \"SOWING_DAY\",\n      \"properties\": {\n        \"dtype\": \"number\",\n        \"std\": 76.98824204964104,\n        \"min\": -23.0,\n        \"max\": 217.0,\n        \"num_unique_values\": 7,\n        \"samples\": [\n          217.0,\n          4.382488479262673,\n          1.0\n        ],\n        \"semantic_type\": \"\",\n        \"description\": \"\"\n      }\n    },\n    {\n      \"column\": \"TRANSPLANTING_DAY\",\n      \"properties\": {\n        \"dtype\": \"number\",\n        \"std\": 75.92093014186797,\n        \"min\": 0.0,\n        \"max\": 217.0,\n        \"num_unique_values\": 5,\n        \"samples\": [\n          6.059907834101383,\n          69.0,\n          14.535432633510382\n        ],\n        \"semantic_type\": \"\",\n        \"description\": \"\"\n      }\n    },\n    {\n      \"column\": \"HARVESTING_DAY\",\n      \"properties\": {\n        \"dtype\": \"number\",\n        \"std\": 86.89986862392296,\n        \"min\": 0.0,\n        \"max\": 217.0,\n        \"num_unique_values\": 6,\n        \"samples\": [\n          217.0,\n          60.63594470046083,\n          184.0\n        ],\n        \"semantic_type\": \"\",\n        \"description\": \"\"\n      }\n    },\n    {\n      \"column\": \"YIELD\",\n      \"properties\": {\n        \"dtype\": \"number\",\n        \"std\": 1236.0452206205287,\n        \"min\": 0.0,\n        \"max\": 3600.0,\n        \"num_unique_values\": 5,\n        \"samples\": [\n          283.1029032258065,\n          3600.0,\n          686.9635078825982\n        ],\n        \"semantic_type\": \"\",\n        \"description\": \"\"\n      }\n    }\n  ]\n}"
            }
          },
          "metadata": {},
          "execution_count": 23
        }
      ]
    },
    {
      "cell_type": "markdown",
      "source": [
        "This gives summary statistics for numeric features like:\n",
        "\n",
        "*   Mean, median, min, max\n",
        "*   Standard deviation (how much values vary)\n",
        "\n"
      ],
      "metadata": {
        "id": "HZ9vHL8ygYpQ"
      }
    },
    {
      "cell_type": "code",
      "source": [
        "df.isnull().sum()"
      ],
      "metadata": {
        "id": "I29PLUDigfUu",
        "colab": {
          "base_uri": "https://localhost:8080/",
          "height": 617
        },
        "outputId": "f32f9dd8-625d-4051-b272-861ae6ae9461"
      },
      "execution_count": null,
      "outputs": [
        {
          "output_type": "execute_result",
          "data": {
            "text/plain": [
              "UNIQUE_ID               0\n",
              "PLOT_ID                 0\n",
              "RIVER_PART             34\n",
              "STANDARD_SEASON         0\n",
              "YEAR                    0\n",
              "AREA                    0\n",
              "CROP                    0\n",
              "VARIETY               183\n",
              "PADDY_BIN               0\n",
              "SOWING_DATE             0\n",
              "TRANSPLANTING_DATE      0\n",
              "HARVESTING_DATE         0\n",
              "SOWING_DAY              0\n",
              "TRANSPLANTING_DAY       0\n",
              "HARVESTING_DAY          0\n",
              "YIELD                   0\n",
              "SPLIT                   0\n",
              "dtype: int64"
            ],
            "text/html": [
              "<div>\n",
              "<style scoped>\n",
              "    .dataframe tbody tr th:only-of-type {\n",
              "        vertical-align: middle;\n",
              "    }\n",
              "\n",
              "    .dataframe tbody tr th {\n",
              "        vertical-align: top;\n",
              "    }\n",
              "\n",
              "    .dataframe thead th {\n",
              "        text-align: right;\n",
              "    }\n",
              "</style>\n",
              "<table border=\"1\" class=\"dataframe\">\n",
              "  <thead>\n",
              "    <tr style=\"text-align: right;\">\n",
              "      <th></th>\n",
              "      <th>0</th>\n",
              "    </tr>\n",
              "  </thead>\n",
              "  <tbody>\n",
              "    <tr>\n",
              "      <th>UNIQUE_ID</th>\n",
              "      <td>0</td>\n",
              "    </tr>\n",
              "    <tr>\n",
              "      <th>PLOT_ID</th>\n",
              "      <td>0</td>\n",
              "    </tr>\n",
              "    <tr>\n",
              "      <th>RIVER_PART</th>\n",
              "      <td>34</td>\n",
              "    </tr>\n",
              "    <tr>\n",
              "      <th>STANDARD_SEASON</th>\n",
              "      <td>0</td>\n",
              "    </tr>\n",
              "    <tr>\n",
              "      <th>YEAR</th>\n",
              "      <td>0</td>\n",
              "    </tr>\n",
              "    <tr>\n",
              "      <th>AREA</th>\n",
              "      <td>0</td>\n",
              "    </tr>\n",
              "    <tr>\n",
              "      <th>CROP</th>\n",
              "      <td>0</td>\n",
              "    </tr>\n",
              "    <tr>\n",
              "      <th>VARIETY</th>\n",
              "      <td>183</td>\n",
              "    </tr>\n",
              "    <tr>\n",
              "      <th>PADDY_BIN</th>\n",
              "      <td>0</td>\n",
              "    </tr>\n",
              "    <tr>\n",
              "      <th>SOWING_DATE</th>\n",
              "      <td>0</td>\n",
              "    </tr>\n",
              "    <tr>\n",
              "      <th>TRANSPLANTING_DATE</th>\n",
              "      <td>0</td>\n",
              "    </tr>\n",
              "    <tr>\n",
              "      <th>HARVESTING_DATE</th>\n",
              "      <td>0</td>\n",
              "    </tr>\n",
              "    <tr>\n",
              "      <th>SOWING_DAY</th>\n",
              "      <td>0</td>\n",
              "    </tr>\n",
              "    <tr>\n",
              "      <th>TRANSPLANTING_DAY</th>\n",
              "      <td>0</td>\n",
              "    </tr>\n",
              "    <tr>\n",
              "      <th>HARVESTING_DAY</th>\n",
              "      <td>0</td>\n",
              "    </tr>\n",
              "    <tr>\n",
              "      <th>YIELD</th>\n",
              "      <td>0</td>\n",
              "    </tr>\n",
              "    <tr>\n",
              "      <th>SPLIT</th>\n",
              "      <td>0</td>\n",
              "    </tr>\n",
              "  </tbody>\n",
              "</table>\n",
              "</div><br><label><b>dtype:</b> int64</label>"
            ]
          },
          "metadata": {},
          "execution_count": 24
        }
      ]
    },
    {
      "cell_type": "markdown",
      "source": [
        "Checking for missing data.\n",
        "\n",
        "There exists few data points with missing values(here, River part and variety have 34 and 183 missing values)"
      ],
      "metadata": {
        "id": "8Geg0Cuogk-u"
      }
    },
    {
      "cell_type": "markdown",
      "source": [
        "# **CLEANING DATA**"
      ],
      "metadata": {
        "id": "TcITh9Gfg7eG"
      }
    },
    {
      "cell_type": "code",
      "source": [
        "# Remove dropna() as it removes all rows\n",
        "# df.dropna(inplace=True)\n",
        "\n",
        "# Impute missing values in 'RIVER_PART' with the mode\n",
        "if not df['RIVER_PART'].isnull().all():\n",
        "  df['RIVER_PART'].fillna(df['RIVER_PART'].mode()[0], inplace=True)\n",
        "\n",
        "# Drop the 'VARIETY' column due to a high percentage of missing values\n",
        "if 'VARIETY' in df.columns:\n",
        "  df.drop('VARIETY', axis=1, inplace=True)\n",
        "\n",
        "df.drop_duplicates(inplace=True)\n",
        "print(\"Cleaned dataset shape:\", df.shape)"
      ],
      "metadata": {
        "id": "A5B60uN2grJl",
        "colab": {
          "base_uri": "https://localhost:8080/"
        },
        "outputId": "66cc255b-083c-4f1f-b3f0-cc6ac48b9edd"
      },
      "execution_count": null,
      "outputs": [
        {
          "output_type": "stream",
          "name": "stdout",
          "text": [
            "Cleaned dataset shape: (0, 17)\n"
          ]
        }
      ]
    },
    {
      "cell_type": "markdown",
      "source": [
        "The dataset becomes clean and ready for analysis by removing:\n",
        "\n",
        "\n",
        "*   Rows with missing data using .drapna()\n",
        "*   Duplicate rows that could bias the model using drop_duplicates()\n",
        "\n",
        "\n",
        "The shape changes (usually fewer rows), which confirms cleanup was successful."
      ],
      "metadata": {
        "id": "9_nHiIxFhC7M"
      }
    },
    {
      "cell_type": "code",
      "source": [
        "df['CROP'] = df['CROP'].str.strip().str.upper()\n"
      ],
      "metadata": {
        "id": "koAd1dGwip_i"
      },
      "execution_count": null,
      "outputs": []
    },
    {
      "cell_type": "code",
      "source": [
        "df['CROP'] = df['CROP'].astype(str).str.strip().str.upper()\n"
      ],
      "metadata": {
        "id": "Gkq0uf3GjciN"
      },
      "execution_count": null,
      "outputs": []
    },
    {
      "cell_type": "markdown",
      "source": [
        "These functions ensure that the CROP column has normalised values."
      ],
      "metadata": {
        "id": "HC4-X1aOkDvc"
      }
    },
    {
      "cell_type": "markdown",
      "source": [
        "# **Data Exploration**"
      ],
      "metadata": {
        "id": "A2MFS0-Ohb6M"
      }
    },
    {
      "cell_type": "code",
      "source": [
        "df['CROP'].value_counts()\n"
      ],
      "metadata": {
        "id": "ezC5TFgMhMWI",
        "colab": {
          "base_uri": "https://localhost:8080/",
          "height": 115
        },
        "outputId": "8da21728-bad9-4b2f-da26-4609cac7a0cd"
      },
      "execution_count": null,
      "outputs": [
        {
          "output_type": "execute_result",
          "data": {
            "text/plain": [
              "Series([], Name: count, dtype: int64)"
            ],
            "text/html": [
              "<div>\n",
              "<style scoped>\n",
              "    .dataframe tbody tr th:only-of-type {\n",
              "        vertical-align: middle;\n",
              "    }\n",
              "\n",
              "    .dataframe tbody tr th {\n",
              "        vertical-align: top;\n",
              "    }\n",
              "\n",
              "    .dataframe thead th {\n",
              "        text-align: right;\n",
              "    }\n",
              "</style>\n",
              "<table border=\"1\" class=\"dataframe\">\n",
              "  <thead>\n",
              "    <tr style=\"text-align: right;\">\n",
              "      <th></th>\n",
              "      <th>count</th>\n",
              "    </tr>\n",
              "    <tr>\n",
              "      <th>CROP</th>\n",
              "      <th></th>\n",
              "    </tr>\n",
              "  </thead>\n",
              "  <tbody>\n",
              "  </tbody>\n",
              "</table>\n",
              "</div><br><label><b>dtype:</b> int64</label>"
            ]
          },
          "metadata": {},
          "execution_count": 28
        }
      ]
    },
    {
      "cell_type": "markdown",
      "source": [
        "This tells if the dataset is skewed towards one type of crop (e.g., mostly Paddy), which may affect how well the model performs on smaller classes."
      ],
      "metadata": {
        "id": "EBs-pE6okY1N"
      }
    },
    {
      "cell_type": "code",
      "source": [
        "plt.figure(figsize=(12, 5))\n",
        "sns.countplot(data=df, x='CROP')\n",
        "plt.title(\"Crop Distribution\")\n",
        "plt.xticks(rotation=45)\n",
        "plt.show()"
      ],
      "metadata": {
        "id": "Y9PZXKJgkbCQ",
        "colab": {
          "base_uri": "https://localhost:8080/",
          "height": 485
        },
        "outputId": "4e0c62c7-dc6a-48b1-b831-b7b953e91b52"
      },
      "execution_count": null,
      "outputs": [
        {
          "output_type": "display_data",
          "data": {
            "text/plain": [
              "<Figure size 1200x500 with 1 Axes>"
            ],
            "image/png": "[encoded data removed]"
          },
          "metadata": {}
        }
      ]
    },
    {
      "cell_type": "markdown",
      "source": [
        "This bar chart helps to visualize if there is an imbalance in the dataset.\n",
        "\n",
        "For eg. Paddy occurs more than other crops."
      ],
      "metadata": {
        "id": "VME1CtZWkjDl"
      }
    },
    {
      "cell_type": "markdown",
      "source": [
        "**VISUALIZATION**"
      ],
      "metadata": {
        "id": "FcEb5j0VlRpK"
      }
    },
    {
      "cell_type": "code",
      "source": [
        "numeric_cols = df.select_dtypes(include=np.number).columns.tolist()\n",
        "\n",
        "df[numeric_cols].hist(figsize=(15, 10), bins=20, color='skyblue')\n",
        "plt.suptitle(\"Histograms of Numeric Features\", fontsize=16)\n",
        "plt.show()"
      ],
      "metadata": {
        "id": "Z_aiWYuklVj-",
        "colab": {
          "base_uri": "https://localhost:8080/",
          "height": 935
        },
        "outputId": "0b36fa87-861c-4c8f-afed-d4b1f10fe9e3"
      },
      "execution_count": null,
      "outputs": [
        {
          "output_type": "display_data",
          "data": {
            "text/plain": [
              "<Figure size 1500x1000 with 9 Axes>"
            ],
            "image/png": "[encoded data removed]"
          },
          "metadata": {}
        }
      ]
    },
    {
      "cell_type": "markdown",
      "source": [
        "**Histograms** show the distribution of each feature:\n",
        "\n",
        "For eg:\n",
        "\n",
        "*   AREA:\n",
        "Heavily right-skewed — most plots are under 1 acre, but a few go above 4.\n",
        "*    SOWING_DAY, TRANSPLANTING_DAY, HARVESTING_DAY:\n",
        "All are concentrated at low values, some with strange values (e.g., SOWING_DAY < 0).\n"
      ],
      "metadata": {
        "id": "taGMnjgBlYjb"
      }
    },
    {
      "cell_type": "code",
      "source": [
        "plt.figure(figsize=(12, 6))\n",
        "sns.boxplot(data=df, x='CROP', y='AREA')\n",
        "plt.title(\"Crop-wise Area Distribution\")\n",
        "plt.xticks(rotation=45)\n",
        "plt.show()"
      ],
      "metadata": {
        "id": "VGDon9ZclxTF",
        "colab": {
          "base_uri": "https://localhost:8080/",
          "height": 562
        },
        "outputId": "010cdae7-5554-407c-bd57-15163226979c"
      },
      "execution_count": null,
      "outputs": [
        {
          "output_type": "display_data",
          "data": {
            "text/plain": [
              "<Figure size 1200x600 with 1 Axes>"
            ],
            "image/png": "[encoded data removed]"
          },
          "metadata": {}
        }
      ]
    },
    {
      "cell_type": "markdown",
      "source": [
        "**Boxplot** shows how each crop differs in terms of feature values and whether that feature is useful for classification.\n",
        "\n",
        "For eg:\n",
        "\n",
        "\n",
        "*   Paddy shows a wide variation in area, with several plots above 1 acre — even up to 4 acres.\n",
        "\n",
        "This suggests that Paddy is grown in both small and large farms, making AREA a potentially good distinguishing feature.\n",
        "\n",
        "*   Most other crops like Banana, Groundnut, and Sesame are cultivated on much smaller and more consistent plot sizes.\n",
        "\n",
        "Their box plots are narrow, with few or no outliers — indicating standardized or small-scale farming."
      ],
      "metadata": {
        "id": "Ki731EkXmS_S"
      }
    },
    {
      "cell_type": "code",
      "source": [
        "plt.figure(figsize=(10, 8))\n",
        "corr = df[numeric_cols].corr()\n",
        "sns.heatmap(corr, annot=True, cmap='coolwarm', fmt='.2f')\n",
        "plt.title(\"Correlation Heatmap\")\n",
        "plt.show()"
      ],
      "metadata": {
        "id": "kdud2Vslmze5",
        "colab": {
          "base_uri": "https://localhost:8080/",
          "height": 923
        },
        "outputId": "66bd6fb8-54ef-47e9-a837-d7a856a85c7f"
      },
      "execution_count": null,
      "outputs": [
        {
          "output_type": "stream",
          "name": "stderr",
          "text": [
            "/usr/local/lib/python3.11/dist-packages/seaborn/matrix.py:202: RuntimeWarning: All-NaN slice encountered\n",
            "  vmin = np.nanmin(calc_data)\n",
            "/usr/local/lib/python3.11/dist-packages/seaborn/matrix.py:207: RuntimeWarning: All-NaN slice encountered\n",
            "  vmax = np.nanmax(calc_data)\n"
          ]
        },
        {
          "output_type": "display_data",
          "data": {
            "text/plain": [
              "<Figure size 1000x800 with 2 Axes>"
            ],
            "image/png": "[encoded data removed]"
          },
          "metadata": {}
        }
      ]
    },
    {
      "cell_type": "markdown",
      "source": [
        "Correlation heatmap helps identify which numeric features are strongly related (e.g., NDVI and AREA), or redundant.\n",
        "\n",
        "If the value is close to:\n",
        "\n",
        "\n",
        "*   -1  -- Negative relation(Value of both features decreases at similar rate)\n",
        "\n",
        "For eg: TRANSPLANTING_DAY & YIELD\n",
        "\n",
        "*   +1  -- Positive relation(Value of both features increase at similar rate)\n",
        "\n",
        "For eg: PADDY_BIN & HARVESTING_DAY\n",
        "\n"
      ],
      "metadata": {
        "id": "Iwtfl2GPm895"
      }
    },
    {
      "cell_type": "markdown",
      "source": [
        "# **FEATURE CORRELATION & SELECTION**"
      ],
      "metadata": {
        "id": "vRT-JCOvnuhQ"
      }
    },
    {
      "cell_type": "code",
      "source": [
        "from sklearn.preprocessing import LabelEncoder\n",
        "\n",
        "le = LabelEncoder()\n",
        "df['crop_label'] = le.fit_transform(df['CROP'])"
      ],
      "metadata": {
        "id": "HsclOFlKnBzG"
      },
      "execution_count": null,
      "outputs": []
    },
    {
      "cell_type": "markdown",
      "source": [
        "Machine learning algorithms require numerical targets. So, we convert each unique crop type into a numeric label.\n",
        "\n",
        "So, now crop_label can be used as the target variable in our model."
      ],
      "metadata": {
        "id": "lx8wuJgipTga"
      }
    },
    {
      "cell_type": "code",
      "source": [
        "corr_with_target = df[numeric_features.columns].corrwith(df['crop_label']).abs()\n",
        "corr_with_target.sort_values(ascending=False)"
      ],
      "metadata": {
        "id": "ktHvvj4NpcO9",
        "colab": {
          "base_uri": "https://localhost:8080/",
          "height": 366
        },
        "outputId": "29a1e692-d719-4bf9-a4fb-6a1edac9543f"
      },
      "execution_count": null,
      "outputs": [
        {
          "output_type": "execute_result",
          "data": {
            "text/plain": [
              "UNIQUE_ID           NaN\n",
              "PLOT_ID             NaN\n",
              "YEAR                NaN\n",
              "AREA                NaN\n",
              "PADDY_BIN           NaN\n",
              "SOWING_DAY          NaN\n",
              "TRANSPLANTING_DAY   NaN\n",
              "HARVESTING_DAY      NaN\n",
              "YIELD               NaN\n",
              "dtype: float64"
            ],
            "text/html": [
              "<div>\n",
              "<style scoped>\n",
              "    .dataframe tbody tr th:only-of-type {\n",
              "        vertical-align: middle;\n",
              "    }\n",
              "\n",
              "    .dataframe tbody tr th {\n",
              "        vertical-align: top;\n",
              "    }\n",
              "\n",
              "    .dataframe thead th {\n",
              "        text-align: right;\n",
              "    }\n",
              "</style>\n",
              "<table border=\"1\" class=\"dataframe\">\n",
              "  <thead>\n",
              "    <tr style=\"text-align: right;\">\n",
              "      <th></th>\n",
              "      <th>0</th>\n",
              "    </tr>\n",
              "  </thead>\n",
              "  <tbody>\n",
              "    <tr>\n",
              "      <th>UNIQUE_ID</th>\n",
              "      <td>NaN</td>\n",
              "    </tr>\n",
              "    <tr>\n",
              "      <th>PLOT_ID</th>\n",
              "      <td>NaN</td>\n",
              "    </tr>\n",
              "    <tr>\n",
              "      <th>YEAR</th>\n",
              "      <td>NaN</td>\n",
              "    </tr>\n",
              "    <tr>\n",
              "      <th>AREA</th>\n",
              "      <td>NaN</td>\n",
              "    </tr>\n",
              "    <tr>\n",
              "      <th>PADDY_BIN</th>\n",
              "      <td>NaN</td>\n",
              "    </tr>\n",
              "    <tr>\n",
              "      <th>SOWING_DAY</th>\n",
              "      <td>NaN</td>\n",
              "    </tr>\n",
              "    <tr>\n",
              "      <th>TRANSPLANTING_DAY</th>\n",
              "      <td>NaN</td>\n",
              "    </tr>\n",
              "    <tr>\n",
              "      <th>HARVESTING_DAY</th>\n",
              "      <td>NaN</td>\n",
              "    </tr>\n",
              "    <tr>\n",
              "      <th>YIELD</th>\n",
              "      <td>NaN</td>\n",
              "    </tr>\n",
              "  </tbody>\n",
              "</table>\n",
              "</div><br><label><b>dtype:</b> float64</label>"
            ]
          },
          "metadata": {},
          "execution_count": 39
        }
      ]
    },
    {
      "cell_type": "markdown",
      "source": [
        "We use ***Pearson Correlation*** to identify which numeric features are most related to the crop type.\n",
        "\n",
        "Features like PADDY_BIN, and HARVESTING_DAY show high correlation with the crop type and therefore, are good candidates for model input."
      ],
      "metadata": {
        "id": "gqI0wj3hpepQ"
      }
    },
    {
      "cell_type": "code",
      "source": [
        "def cramers_v(x, y):\n",
        "    ...\n",
        "\n",
        "cramers_v(df['RIVER_PART'], df['crop_label'])\n"
      ],
      "metadata": {
        "id": "raZGAF2Zpzwc"
      },
      "execution_count": null,
      "outputs": []
    },
    {
      "cell_type": "markdown",
      "source": [
        "***Cramér’s V*** is a correlation measure for categorical features. It helps to understand if variables like STANDARD_SEASON or RIVER_PART relate to crop type."
      ],
      "metadata": {
        "id": "0MaLSBRJp5Ph"
      }
    },
    {
      "cell_type": "markdown",
      "source": [
        "#**MODEL DEVELOPMENT**"
      ],
      "metadata": {
        "id": "j-HgQvKnqHqd"
      }
    },
    {
      "cell_type": "code",
      "source": [
        "features = ['AREA', 'YEAR', 'YIELD', 'SOWING_DAY', 'PADDY_BIN']\n",
        "X = df[features]\n",
        "y = df['crop_label']"
      ],
      "metadata": {
        "id": "6gJ6pGEdqMSf"
      },
      "execution_count": null,
      "outputs": []
    },
    {
      "cell_type": "markdown",
      "source": [
        "**FEATURE SELECTION**\n",
        "\n",
        "We select the most relevant features to feed into our model, based on correlation and domain understanding.\n",
        "\n",
        "\n",
        "By this we have clean, relevant feature matrix (X) and a numeric target (y)."
      ],
      "metadata": {
        "id": "6jQygGsXqRiC"
      }
    },
    {
      "cell_type": "code",
      "source": [
        "from sklearn.preprocessing import StandardScaler\n",
        "\n",
        "scaler = StandardScaler()\n",
        "X_scaled = scaler.fit_transform(X)"
      ],
      "metadata": {
        "id": "aEWLxpQ3qTy1",
        "colab": {
          "base_uri": "https://localhost:8080/",
          "height": 339
        },
        "outputId": "b3555168-f5cd-4a5b-bed2-48f1870b9c62"
      },
      "execution_count": null,
      "outputs": [
        {
          "output_type": "error",
          "ename": "ValueError",
          "evalue": "Found array with 0 sample(s) (shape=(0, 5)) while a minimum of 1 is required by StandardScaler.",
          "traceback": [
            "\u001b[0;31m---------------------------------------------------------------------------\u001b[0m",
            "\u001b[0;31mValueError\u001b[0m                                Traceback (most recent call last)",
            "\u001b[0;32m/tmp/ipython-input-37-842355065.py\u001b[0m in \u001b[0;36m<cell line: 0>\u001b[0;34m()\u001b[0m\n\u001b[1;32m      2\u001b[0m \u001b[0;34m\u001b[0m\u001b[0m\n\u001b[1;32m      3\u001b[0m \u001b[0mscaler\u001b[0m \u001b[0;34m=\u001b[0m \u001b[0mStandardScaler\u001b[0m\u001b[0;34m(\u001b[0m\u001b[0;34m)\u001b[0m\u001b[0;34m\u001b[0m\u001b[0;34m\u001b[0m\u001b[0m\n\u001b[0;32m----> 4\u001b[0;31m \u001b[0mX_scaled\u001b[0m \u001b[0;34m=\u001b[0m \u001b[0mscaler\u001b[0m\u001b[0;34m.\u001b[0m\u001b[0mfit_transform\u001b[0m\u001b[0;34m(\u001b[0m\u001b[0mX\u001b[0m\u001b[0;34m)\u001b[0m\u001b[0;34m\u001b[0m\u001b[0;34m\u001b[0m\u001b[0m\n\u001b[0m",
            "\u001b[0;32m/usr/local/lib/python3.11/dist-packages/sklearn/utils/_set_output.py\u001b[0m in \u001b[0;36mwrapped\u001b[0;34m(self, X, *args, **kwargs)\u001b[0m\n\u001b[1;32m    317\u001b[0m     \u001b[0;34m@\u001b[0m\u001b[0mwraps\u001b[0m\u001b[0;34m(\u001b[0m\u001b[0mf\u001b[0m\u001b[0;34m)\u001b[0m\u001b[0;34m\u001b[0m\u001b[0;34m\u001b[0m\u001b[0m\n\u001b[1;32m    318\u001b[0m     \u001b[0;32mdef\u001b[0m \u001b[0mwrapped\u001b[0m\u001b[0;34m(\u001b[0m\u001b[0mself\u001b[0m\u001b[0;34m,\u001b[0m \u001b[0mX\u001b[0m\u001b[0;34m,\u001b[0m \u001b[0;34m*\u001b[0m\u001b[0margs\u001b[0m\u001b[0;34m,\u001b[0m \u001b[0;34m**\u001b[0m\u001b[0mkwargs\u001b[0m\u001b[0;34m)\u001b[0m\u001b[0;34m:\u001b[0m\u001b[0;34m\u001b[0m\u001b[0;34m\u001b[0m\u001b[0m\n\u001b[0;32m--> 319\u001b[0;31m         \u001b[0mdata_to_wrap\u001b[0m \u001b[0;34m=\u001b[0m \u001b[0mf\u001b[0m\u001b[0;34m(\u001b[0m\u001b[0mself\u001b[0m\u001b[0;34m,\u001b[0m \u001b[0mX\u001b[0m\u001b[0;34m,\u001b[0m \u001b[0;34m*\u001b[0m\u001b[0margs\u001b[0m\u001b[0;34m,\u001b[0m \u001b[0;34m**\u001b[0m\u001b[0mkwargs\u001b[0m\u001b[0;34m)\u001b[0m\u001b[0;34m\u001b[0m\u001b[0;34m\u001b[0m\u001b[0m\n\u001b[0m\u001b[1;32m    320\u001b[0m         \u001b[0;32mif\u001b[0m \u001b[0misinstance\u001b[0m\u001b[0;34m(\u001b[0m\u001b[0mdata_to_wrap\u001b[0m\u001b[0;34m,\u001b[0m \u001b[0mtuple\u001b[0m\u001b[0;34m)\u001b[0m\u001b[0;34m:\u001b[0m\u001b[0;34m\u001b[0m\u001b[0;34m\u001b[0m\u001b[0m\n\u001b[1;32m    321\u001b[0m             \u001b[0;31m# only wrap the first output for cross decomposition\u001b[0m\u001b[0;34m\u001b[0m\u001b[0;34m\u001b[0m\u001b[0m\n",
            "\u001b[0;32m/usr/local/lib/python3.11/dist-packages/sklearn/base.py\u001b[0m in \u001b[0;36mfit_transform\u001b[0;34m(self, X, y, **fit_params)\u001b[0m\n\u001b[1;32m    916\u001b[0m         \u001b[0;32mif\u001b[0m \u001b[0my\u001b[0m \u001b[0;32mis\u001b[0m \u001b[0;32mNone\u001b[0m\u001b[0;34m:\u001b[0m\u001b[0;34m\u001b[0m\u001b[0;34m\u001b[0m\u001b[0m\n\u001b[1;32m    917\u001b[0m             \u001b[0;31m# fit method of arity 1 (unsupervised transformation)\u001b[0m\u001b[0;34m\u001b[0m\u001b[0;34m\u001b[0m\u001b[0m\n\u001b[0;32m--> 918\u001b[0;31m             \u001b[0;32mreturn\u001b[0m \u001b[0mself\u001b[0m\u001b[0;34m.\u001b[0m\u001b[0mfit\u001b[0m\u001b[0;34m(\u001b[0m\u001b[0mX\u001b[0m\u001b[0;34m,\u001b[0m \u001b[0;34m**\u001b[0m\u001b[0mfit_params\u001b[0m\u001b[0;34m)\u001b[0m\u001b[0;34m.\u001b[0m\u001b[0mtransform\u001b[0m\u001b[0;34m(\u001b[0m\u001b[0mX\u001b[0m\u001b[0;34m)\u001b[0m\u001b[0;34m\u001b[0m\u001b[0;34m\u001b[0m\u001b[0m\n\u001b[0m\u001b[1;32m    919\u001b[0m         \u001b[0;32melse\u001b[0m\u001b[0;34m:\u001b[0m\u001b[0;34m\u001b[0m\u001b[0;34m\u001b[0m\u001b[0m\n\u001b[1;32m    920\u001b[0m             \u001b[0;31m# fit method of arity 2 (supervised transformation)\u001b[0m\u001b[0;34m\u001b[0m\u001b[0;34m\u001b[0m\u001b[0m\n",
            "\u001b[0;32m/usr/local/lib/python3.11/dist-packages/sklearn/preprocessing/_data.py\u001b[0m in \u001b[0;36mfit\u001b[0;34m(self, X, y, sample_weight)\u001b[0m\n\u001b[1;32m    892\u001b[0m         \u001b[0;31m# Reset internal state before fitting\u001b[0m\u001b[0;34m\u001b[0m\u001b[0;34m\u001b[0m\u001b[0m\n\u001b[1;32m    893\u001b[0m         \u001b[0mself\u001b[0m\u001b[0;34m.\u001b[0m\u001b[0m_reset\u001b[0m\u001b[0;34m(\u001b[0m\u001b[0;34m)\u001b[0m\u001b[0;34m\u001b[0m\u001b[0;34m\u001b[0m\u001b[0m\n\u001b[0;32m--> 894\u001b[0;31m         \u001b[0;32mreturn\u001b[0m \u001b[0mself\u001b[0m\u001b[0;34m.\u001b[0m\u001b[0mpartial_fit\u001b[0m\u001b[0;34m(\u001b[0m\u001b[0mX\u001b[0m\u001b[0;34m,\u001b[0m \u001b[0my\u001b[0m\u001b[0;34m,\u001b[0m \u001b[0msample_weight\u001b[0m\u001b[0;34m)\u001b[0m\u001b[0;34m\u001b[0m\u001b[0;34m\u001b[0m\u001b[0m\n\u001b[0m\u001b[1;32m    895\u001b[0m \u001b[0;34m\u001b[0m\u001b[0m\n\u001b[1;32m    896\u001b[0m     \u001b[0;34m@\u001b[0m\u001b[0m_fit_context\u001b[0m\u001b[0;34m(\u001b[0m\u001b[0mprefer_skip_nested_validation\u001b[0m\u001b[0;34m=\u001b[0m\u001b[0;32mTrue\u001b[0m\u001b[0;34m)\u001b[0m\u001b[0;34m\u001b[0m\u001b[0;34m\u001b[0m\u001b[0m\n",
            "\u001b[0;32m/usr/local/lib/python3.11/dist-packages/sklearn/base.py\u001b[0m in \u001b[0;36mwrapper\u001b[0;34m(estimator, *args, **kwargs)\u001b[0m\n\u001b[1;32m   1387\u001b[0m                 )\n\u001b[1;32m   1388\u001b[0m             ):\n\u001b[0;32m-> 1389\u001b[0;31m                 \u001b[0;32mreturn\u001b[0m \u001b[0mfit_method\u001b[0m\u001b[0;34m(\u001b[0m\u001b[0mestimator\u001b[0m\u001b[0;34m,\u001b[0m \u001b[0;34m*\u001b[0m\u001b[0margs\u001b[0m\u001b[0;34m,\u001b[0m \u001b[0;34m**\u001b[0m\u001b[0mkwargs\u001b[0m\u001b[0;34m)\u001b[0m\u001b[0;34m\u001b[0m\u001b[0;34m\u001b[0m\u001b[0m\n\u001b[0m\u001b[1;32m   1390\u001b[0m \u001b[0;34m\u001b[0m\u001b[0m\n\u001b[1;32m   1391\u001b[0m         \u001b[0;32mreturn\u001b[0m \u001b[0mwrapper\u001b[0m\u001b[0;34m\u001b[0m\u001b[0;34m\u001b[0m\u001b[0m\n",
            "\u001b[0;32m/usr/local/lib/python3.11/dist-packages/sklearn/preprocessing/_data.py\u001b[0m in \u001b[0;36mpartial_fit\u001b[0;34m(self, X, y, sample_weight)\u001b[0m\n\u001b[1;32m    928\u001b[0m         \"\"\"\n\u001b[1;32m    929\u001b[0m         \u001b[0mfirst_call\u001b[0m \u001b[0;34m=\u001b[0m \u001b[0;32mnot\u001b[0m \u001b[0mhasattr\u001b[0m\u001b[0;34m(\u001b[0m\u001b[0mself\u001b[0m\u001b[0;34m,\u001b[0m \u001b[0;34m\"n_samples_seen_\"\u001b[0m\u001b[0;34m)\u001b[0m\u001b[0;34m\u001b[0m\u001b[0;34m\u001b[0m\u001b[0m\n\u001b[0;32m--> 930\u001b[0;31m         X = validate_data(\n\u001b[0m\u001b[1;32m    931\u001b[0m             \u001b[0mself\u001b[0m\u001b[0;34m,\u001b[0m\u001b[0;34m\u001b[0m\u001b[0;34m\u001b[0m\u001b[0m\n\u001b[1;32m    932\u001b[0m             \u001b[0mX\u001b[0m\u001b[0;34m,\u001b[0m\u001b[0;34m\u001b[0m\u001b[0;34m\u001b[0m\u001b[0m\n",
            "\u001b[0;32m/usr/local/lib/python3.11/dist-packages/sklearn/utils/validation.py\u001b[0m in \u001b[0;36mvalidate_data\u001b[0;34m(_estimator, X, y, reset, validate_separately, skip_check_array, **check_params)\u001b[0m\n\u001b[1;32m   2942\u001b[0m             \u001b[0mout\u001b[0m \u001b[0;34m=\u001b[0m \u001b[0mX\u001b[0m\u001b[0;34m,\u001b[0m \u001b[0my\u001b[0m\u001b[0;34m\u001b[0m\u001b[0;34m\u001b[0m\u001b[0m\n\u001b[1;32m   2943\u001b[0m     \u001b[0;32melif\u001b[0m \u001b[0;32mnot\u001b[0m \u001b[0mno_val_X\u001b[0m \u001b[0;32mand\u001b[0m \u001b[0mno_val_y\u001b[0m\u001b[0;34m:\u001b[0m\u001b[0;34m\u001b[0m\u001b[0;34m\u001b[0m\u001b[0m\n\u001b[0;32m-> 2944\u001b[0;31m         \u001b[0mout\u001b[0m \u001b[0;34m=\u001b[0m \u001b[0mcheck_array\u001b[0m\u001b[0;34m(\u001b[0m\u001b[0mX\u001b[0m\u001b[0;34m,\u001b[0m \u001b[0minput_name\u001b[0m\u001b[0;34m=\u001b[0m\u001b[0;34m\"X\"\u001b[0m\u001b[0;34m,\u001b[0m \u001b[0;34m**\u001b[0m\u001b[0mcheck_params\u001b[0m\u001b[0;34m)\u001b[0m\u001b[0;34m\u001b[0m\u001b[0;34m\u001b[0m\u001b[0m\n\u001b[0m\u001b[1;32m   2945\u001b[0m     \u001b[0;32melif\u001b[0m \u001b[0mno_val_X\u001b[0m \u001b[0;32mand\u001b[0m \u001b[0;32mnot\u001b[0m \u001b[0mno_val_y\u001b[0m\u001b[0;34m:\u001b[0m\u001b[0;34m\u001b[0m\u001b[0;34m\u001b[0m\u001b[0m\n\u001b[1;32m   2946\u001b[0m         \u001b[0mout\u001b[0m \u001b[0;34m=\u001b[0m \u001b[0m_check_y\u001b[0m\u001b[0;34m(\u001b[0m\u001b[0my\u001b[0m\u001b[0;34m,\u001b[0m \u001b[0;34m**\u001b[0m\u001b[0mcheck_params\u001b[0m\u001b[0;34m)\u001b[0m\u001b[0;34m\u001b[0m\u001b[0;34m\u001b[0m\u001b[0m\n",
            "\u001b[0;32m/usr/local/lib/python3.11/dist-packages/sklearn/utils/validation.py\u001b[0m in \u001b[0;36mcheck_array\u001b[0;34m(array, accept_sparse, accept_large_sparse, dtype, order, copy, force_writeable, force_all_finite, ensure_all_finite, ensure_non_negative, ensure_2d, allow_nd, ensure_min_samples, ensure_min_features, estimator, input_name)\u001b[0m\n\u001b[1;32m   1128\u001b[0m         \u001b[0mn_samples\u001b[0m \u001b[0;34m=\u001b[0m \u001b[0m_num_samples\u001b[0m\u001b[0;34m(\u001b[0m\u001b[0marray\u001b[0m\u001b[0;34m)\u001b[0m\u001b[0;34m\u001b[0m\u001b[0;34m\u001b[0m\u001b[0m\n\u001b[1;32m   1129\u001b[0m         \u001b[0;32mif\u001b[0m \u001b[0mn_samples\u001b[0m \u001b[0;34m<\u001b[0m \u001b[0mensure_min_samples\u001b[0m\u001b[0;34m:\u001b[0m\u001b[0;34m\u001b[0m\u001b[0;34m\u001b[0m\u001b[0m\n\u001b[0;32m-> 1130\u001b[0;31m             raise ValueError(\n\u001b[0m\u001b[1;32m   1131\u001b[0m                 \u001b[0;34m\"Found array with %d sample(s) (shape=%s) while a\"\u001b[0m\u001b[0;34m\u001b[0m\u001b[0;34m\u001b[0m\u001b[0m\n\u001b[1;32m   1132\u001b[0m                 \u001b[0;34m\" minimum of %d is required%s.\"\u001b[0m\u001b[0;34m\u001b[0m\u001b[0;34m\u001b[0m\u001b[0m\n",
            "\u001b[0;31mValueError\u001b[0m: Found array with 0 sample(s) (shape=(0, 5)) while a minimum of 1 is required by StandardScaler."
          ]
        }
      ]
    },
    {
      "cell_type": "markdown",
      "source": [
        "**FEATURE STANDARDIZATION**\n",
        "\n",
        "KNN is a distance-based algorithm — so if features are on different scales (e.g., AREA vs YEAR), the model will be biased. Standardization puts all features on the same scale."
      ],
      "metadata": {
        "id": "YpafCjQ5qddg"
      }
    },
    {
      "cell_type": "code",
      "source": [
        "# Keep classes with at least 5 samples\n",
        "class_counts = df['crop_label'].value_counts()\n",
        "valid_classes = class_counts[class_counts >= 5].index\n",
        "\n",
        "# Filter the dataset\n",
        "df_filtered = df[df['crop_label'].isin(valid_classes)].copy()\n",
        "\n",
        "# Reset features and target\n",
        "X = df_filtered[features]\n",
        "y = df_filtered['crop_label']\n",
        "\n",
        "# Train-Test Split\n",
        "X_train, X_test, y_train, y_test = train_test_split(\n",
        "    X_scaled, y, test_size=0.2, random_state=42, stratify=y)\n"
      ],
      "metadata": {
        "id": "C-tKmjSmqt2s"
      },
      "execution_count": null,
      "outputs": []
    },
    {
      "cell_type": "markdown",
      "source": [
        "**TRAIN-TEST SPLIT**\n",
        "\n",
        "To ensure proper model training and validation, crop classes with fewer than 5 samples are excluded. Very rare classes can mislead accuracy, break stratified sampling, and are not learnable by the model.\n",
        "\n",
        "We divide our data into training and testing sets to evaluate model performance on unseen data."
      ],
      "metadata": {
        "id": "RJ91lcmbreFw"
      }
    },
    {
      "cell_type": "code",
      "source": [
        "from sklearn.neighbors import KNeighborsClassifier\n",
        "from sklearn.metrics import accuracy_score\n",
        "\n",
        "errors = []\n",
        "for k in range(1, 21):\n",
        "    model = KNeighborsClassifier(n_neighbors=k)\n",
        "    model.fit(X_train, y_train)\n",
        "    pred_k = model.predict(X_test)\n",
        "    errors.append(1 - accuracy_score(y_test, pred_k))\n",
        "\n",
        "plt.plot(range(1, 21), errors, marker='o')\n",
        "plt.xlabel(\"K\")\n",
        "plt.ylabel(\"Error Rate\")\n",
        "plt.title(\"Elbow Method\")\n",
        "plt.show()"
      ],
      "metadata": {
        "id": "3O3mgD3Prd65"
      },
      "execution_count": null,
      "outputs": []
    },
    {
      "cell_type": "markdown",
      "source": [
        "**ELBOW METHOD**\n",
        "\n",
        "The elbow method helps us find the best K where adding more neighbors doesn’t improve performance much.\n",
        "\n",
        "Therefore, K value at the \"elbow\" point to use in the final model.\n",
        "\n",
        "So, K = 3 is the best pick here as error is minimum at 3 and the error increases as K increases."
      ],
      "metadata": {
        "id": "RMOjQciIr8Th"
      }
    },
    {
      "cell_type": "code",
      "source": [
        "knn = KNeighborsClassifier(n_neighbors=3)\n",
        "knn.fit(X_train, y_train)\n",
        "y_pred = knn.predict(X_test)"
      ],
      "metadata": {
        "id": "HytqCCBRszyA"
      },
      "execution_count": null,
      "outputs": []
    },
    {
      "cell_type": "markdown",
      "source": [
        "Training the final model using the optimal K value found from the elbow method(K=3)."
      ],
      "metadata": {
        "id": "_hA4gAyIs6PL"
      }
    },
    {
      "cell_type": "markdown",
      "source": [
        "# **MODEL EVALUATION**"
      ],
      "metadata": {
        "id": "Aa0W92-5susw"
      }
    },
    {
      "cell_type": "code",
      "source": [
        "from sklearn.metrics import classification_report, confusion_matrix\n",
        "filtered_class_labels = le.inverse_transform(sorted(y_test.unique()))\n",
        "\n",
        "print(classification_report(y_test, y_pred, target_names=filtered_class_labels))\n",
        "\n",
        "\n",
        "sns.heatmap(confusion_matrix(y_test, y_pred), annot=True, fmt='d',\n",
        "            xticklabels=le.classes_, yticklabels=le.classes_, cmap='Blues')\n",
        "plt.xlabel(\"Predicted\")\n",
        "plt.ylabel(\"Actual\")\n",
        "plt.title(\"Confusion Matrix\")\n",
        "plt.show()"
      ],
      "metadata": {
        "id": "dCA96c59tGGU"
      },
      "execution_count": null,
      "outputs": []
    },
    {
      "cell_type": "markdown",
      "source": [
        "**After filtering out rare crop classes, the number of remaining classes reduced.**\n",
        "\n",
        "To correctly display the classification report, the labels are matched with the filtered class names using LabelEncoder.inverse_transform().\n",
        "\n",
        "\n",
        "Classification metrics like Precision, Recall, and F1 Score give a more complete picture than just accuracy. The confusion matrix shows which classes the model confuses."
      ],
      "metadata": {
        "id": "HmliXwL8tmIH"
      }
    }
  ]
}